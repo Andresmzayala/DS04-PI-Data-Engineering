{
 "cells": [
  {
   "cell_type": "code",
   "execution_count": null,
   "metadata": {},
   "outputs": [],
   "source": [
    "#promedio precio de la sucursal 9-1-688 en pandas\n",
    "precio.loc[precio['sucursal_id'] == '9-1-688', 'precio'].mean()"
   ]
  },
  {
   "cell_type": "code",
   "execution_count": null,
   "metadata": {},
   "outputs": [],
   "source": [
    "#promedio precio de la sucursal 9-1-688 en MySQL\n",
    "SELECT Avg(precio) \n",
    "FROM  Precios_Semanas\n",
    "WHERE sucursal_id='9-1-688';"
   ]
  },
  {
   "cell_type": "code",
   "execution_count": null,
   "metadata": {},
   "outputs": [],
   "source": [
    "#La respuesta es 199.7031937799043"
   ]
  }
 ],
 "metadata": {
  "kernelspec": {
   "display_name": "Python 3.8.13 ('base')",
   "language": "python",
   "name": "python3"
  },
  "language_info": {
   "name": "python",
   "version": "3.8.13"
  },
  "orig_nbformat": 4,
  "vscode": {
   "interpreter": {
    "hash": "7ad2a7ee31cf2f845c9cb204541997a7bff8346b58ddc260bf0cb045f0f56d75"
   }
  }
 },
 "nbformat": 4,
 "nbformat_minor": 2
}
